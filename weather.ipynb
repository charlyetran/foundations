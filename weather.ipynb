{
 "cells": [
  {
   "cell_type": "code",
   "execution_count": 2,
   "metadata": {
    "collapsed": false
   },
   "outputs": [],
   "source": [
    "import requests\n",
    "from bs4 import BeautifulSoup"
   ]
  },
  {
   "cell_type": "code",
   "execution_count": 3,
   "metadata": {
    "collapsed": false
   },
   "outputs": [],
   "source": [
    "page = requests.get(\"http://forecast.weather.gov/MapClick.php?lat=40.7142&lon=-74.0059\")"
   ]
  },
  {
   "cell_type": "code",
   "execution_count": 4,
   "metadata": {
    "collapsed": true
   },
   "outputs": [],
   "source": [
    "soup = BeautifulSoup(page.content, 'html.parser')"
   ]
  },
  {
   "cell_type": "code",
   "execution_count": 5,
   "metadata": {
    "collapsed": false
   },
   "outputs": [],
   "source": [
    "seven_day = soup.find(id=\"seven-day-forecast\")"
   ]
  },
  {
   "cell_type": "code",
   "execution_count": 6,
   "metadata": {
    "collapsed": true
   },
   "outputs": [],
   "source": [
    "forecast_items = seven_day.find_all(class_=\"tombstone-container\")"
   ]
  },
  {
   "cell_type": "code",
   "execution_count": 7,
   "metadata": {
    "collapsed": false
   },
   "outputs": [
    {
     "data": {
      "text/plain": [
       "['High: 43 °F',\n",
       " 'Low: 36 °F',\n",
       " 'High: 44 °F',\n",
       " 'Low: 44 °F',\n",
       " 'High: 48 °F',\n",
       " 'Low: 37 °F',\n",
       " 'High: 50 °F',\n",
       " 'Low: 36 °F',\n",
       " 'High: 48 °F']"
      ]
     },
     "execution_count": 7,
     "metadata": {},
     "output_type": "execute_result"
    }
   ],
   "source": [
    "temps = [t.get_text() for t in seven_day.select('.tombstone-container .temp')]\n",
    "temps"
   ]
  },
  {
   "cell_type": "code",
   "execution_count": 9,
   "metadata": {
    "collapsed": false
   },
   "outputs": [],
   "source": [
    "tonight = forecast_items[0]"
   ]
  },
  {
   "cell_type": "code",
   "execution_count": 10,
   "metadata": {
    "collapsed": false
   },
   "outputs": [
    {
     "name": "stdout",
     "output_type": "stream",
     "text": [
      "<div class=\"tombstone-container\">\n",
      " <p class=\"period-name\">\n",
      "  M.L.King\n",
      "  <br>\n",
      "   Day\n",
      "  </br>\n",
      " </p>\n",
      " <p>\n",
      "  <img alt=\"M.L.King Day: Sunny, with a high near 43. Southwest wind 3 to 7 mph. \" class=\"forecast-icon\" src=\"newimages/medium/few.png\" title=\"M.L.King Day: Sunny, with a high near 43. Southwest wind 3 to 7 mph. \"/>\n",
      " </p>\n",
      " <p class=\"short-desc\">\n",
      "  Sunny\n",
      " </p>\n",
      " <p class=\"temp temp-high\">\n",
      "  High: 43 °F\n",
      " </p>\n",
      "</div>\n"
     ]
    }
   ],
   "source": [
    "print(tonight.prettify())"
   ]
  },
  {
   "cell_type": "code",
   "execution_count": 12,
   "metadata": {
    "collapsed": false
   },
   "outputs": [
    {
     "name": "stdout",
     "output_type": "stream",
     "text": [
      "M.L.KingDay\n",
      "Sunny\n",
      "High: 43 °F\n"
     ]
    }
   ],
   "source": [
    "period = tonight.find(class_=\"period-name\").get_text()\n",
    "short_desc = tonight.find(class_=\"short-desc\").get_text()\n",
    "temp = tonight.find(class_=\"temp temp-high\").get_text()\n",
    "\n",
    "print(period)\n",
    "print(short_desc)\n",
    "print(temp)"
   ]
  },
  {
   "cell_type": "code",
   "execution_count": 15,
   "metadata": {
    "collapsed": false
   },
   "outputs": [],
   "source": [
    "img = tonight.find(\"img\")"
   ]
  },
  {
   "cell_type": "code",
   "execution_count": 16,
   "metadata": {
    "collapsed": false
   },
   "outputs": [],
   "source": [
    "long_desc = img['title']"
   ]
  },
  {
   "cell_type": "code",
   "execution_count": 17,
   "metadata": {
    "collapsed": false
   },
   "outputs": [
    {
     "name": "stdout",
     "output_type": "stream",
     "text": [
      "M.L.King Day: Sunny, with a high near 43. Southwest wind 3 to 7 mph. \n"
     ]
    }
   ],
   "source": [
    "print(long_desc)"
   ]
  },
  {
   "cell_type": "code",
   "execution_count": 18,
   "metadata": {
    "collapsed": true
   },
   "outputs": [],
   "source": [
    "import re"
   ]
  },
  {
   "cell_type": "code",
   "execution_count": 22,
   "metadata": {
    "collapsed": false
   },
   "outputs": [
    {
     "data": {
      "text/plain": [
       "['43']"
      ]
     },
     "execution_count": 22,
     "metadata": {},
     "output_type": "execute_result"
    }
   ],
   "source": [
    "re.findall(\"[-\\d]+\", temp)"
   ]
  },
  {
   "cell_type": "code",
   "execution_count": 29,
   "metadata": {
    "collapsed": false
   },
   "outputs": [],
   "source": [
    "numeric_temps = [(lambda x: int(re.findall(\"[-\\d]+\", x)[0]))(t.get_text()) \\\n",
    "                 for t in seven_day.select(\".tombstone-container .temp\")]"
   ]
  },
  {
   "cell_type": "code",
   "execution_count": 30,
   "metadata": {
    "collapsed": false
   },
   "outputs": [
    {
     "data": {
      "text/plain": [
       "[43, 36, 44, 44, 48, 37, 50, 36, 48]"
      ]
     },
     "execution_count": 30,
     "metadata": {},
     "output_type": "execute_result"
    }
   ],
   "source": [
    "numeric_temps"
   ]
  },
  {
   "cell_type": "code",
   "execution_count": 31,
   "metadata": {
    "collapsed": true
   },
   "outputs": [],
   "source": [
    "period_names = [pn.get_text() for pn in seven_day.select(\".tombstone-container .period-name\")]\n",
    "short_descs = [sd.get_text() for sd in seven_day.select(\".tombstone-container .short-desc\")]\n",
    "long_descs = [d[\"title\"] for d in seven_day.select(\".tombstone-container img\")]\n",
    "temps = [(lambda x: int(re.findall(\"[-\\d]+\", x)[0]))(t.get_text()) \\\n",
    "                 for t in seven_day.select(\".tombstone-container .temp\")]"
   ]
  },
  {
   "cell_type": "code",
   "execution_count": 33,
   "metadata": {
    "collapsed": false
   },
   "outputs": [
    {
     "data": {
      "text/plain": [
       "{'Friday': {'Long Forecast': 'Friday: Mostly sunny, with a high near 48.',\n",
       "  'Short Forecast': 'Mostly Sunny',\n",
       "  'Temperature': 48},\n",
       " 'M.L.KingDay': {'Long Forecast': 'M.L.King Day: Sunny, with a high near 43. Southwest wind 3 to 7 mph. ',\n",
       "  'Short Forecast': 'Sunny',\n",
       "  'Temperature': 43},\n",
       " 'Thursday': {'Long Forecast': 'Thursday: Partly sunny, with a high near 50.',\n",
       "  'Short Forecast': 'Partly Sunny',\n",
       "  'Temperature': 50},\n",
       " 'ThursdayNight': {'Long Forecast': 'Thursday Night: Partly cloudy, with a low around 36.',\n",
       "  'Short Forecast': 'Partly Cloudy',\n",
       "  'Temperature': 36},\n",
       " 'Tonight': {'Long Forecast': 'Tonight: Increasing clouds, with a low around 36. Southwest wind 3 to 7 mph. ',\n",
       "  'Short Forecast': 'IncreasingClouds',\n",
       "  'Temperature': 36},\n",
       " 'Tuesday': {'Long Forecast': 'Tuesday: Rain likely, mainly after noon.  Cloudy, with a high near 44. Light and variable wind becoming east 5 to 7 mph in the afternoon.  Chance of precipitation is 70%. New precipitation amounts between a tenth and quarter of an inch possible. ',\n",
       "  'Short Forecast': 'Rain Likely',\n",
       "  'Temperature': 44},\n",
       " 'TuesdayNight': {'Long Forecast': 'Tuesday Night: Rain.  Steady temperature around 44. East wind around 7 mph becoming southwest after midnight.  Chance of precipitation is 80%. New precipitation amounts between a quarter and half of an inch possible. ',\n",
       "  'Short Forecast': 'Rain',\n",
       "  'Temperature': 44},\n",
       " 'Wednesday': {'Long Forecast': 'Wednesday: A 40 percent chance of showers, mainly before noon.  Cloudy, with a high near 48. Northwest wind 7 to 9 mph. ',\n",
       "  'Short Forecast': 'ChanceShowers',\n",
       "  'Temperature': 48},\n",
       " 'WednesdayNight': {'Long Forecast': 'Wednesday Night: Mostly cloudy, with a low around 37.',\n",
       "  'Short Forecast': 'Mostly Cloudy',\n",
       "  'Temperature': 37}}"
      ]
     },
     "execution_count": 33,
     "metadata": {},
     "output_type": "execute_result"
    }
   ],
   "source": [
    "weather = {}\n",
    "for i in range(len(period_names)):\n",
    "    weather[period_names[i]] = {}\n",
    "    weather[period_names[i]][\"Short Forecast\"] = short_descs[i]\n",
    "    weather[period_names[i]][\"Long Forecast\"] = long_descs[i]\n",
    "    weather[period_names[i]][\"Temperature\"] = temps[i]\n",
    "    \n",
    "weather"
   ]
  },
  {
   "cell_type": "code",
   "execution_count": 34,
   "metadata": {
    "collapsed": true
   },
   "outputs": [],
   "source": [
    "import pickle"
   ]
  },
  {
   "cell_type": "code",
   "execution_count": 35,
   "metadata": {
    "collapsed": true
   },
   "outputs": [],
   "source": [
    "pickle.dump(weather, open('weather.p', \"wb\"))"
   ]
  },
  {
   "cell_type": "code",
   "execution_count": 36,
   "metadata": {
    "collapsed": true
   },
   "outputs": [],
   "source": [
    "new_weather = pickle.load(open('weather.p', 'rb'))"
   ]
  },
  {
   "cell_type": "code",
   "execution_count": 37,
   "metadata": {
    "collapsed": false
   },
   "outputs": [
    {
     "data": {
      "text/plain": [
       "{'Friday': {'Long Forecast': 'Friday: Mostly sunny, with a high near 48.',\n",
       "  'Short Forecast': 'Mostly Sunny',\n",
       "  'Temperature': 48},\n",
       " 'M.L.KingDay': {'Long Forecast': 'M.L.King Day: Sunny, with a high near 43. Southwest wind 3 to 7 mph. ',\n",
       "  'Short Forecast': 'Sunny',\n",
       "  'Temperature': 43},\n",
       " 'Thursday': {'Long Forecast': 'Thursday: Partly sunny, with a high near 50.',\n",
       "  'Short Forecast': 'Partly Sunny',\n",
       "  'Temperature': 50},\n",
       " 'ThursdayNight': {'Long Forecast': 'Thursday Night: Partly cloudy, with a low around 36.',\n",
       "  'Short Forecast': 'Partly Cloudy',\n",
       "  'Temperature': 36},\n",
       " 'Tonight': {'Long Forecast': 'Tonight: Increasing clouds, with a low around 36. Southwest wind 3 to 7 mph. ',\n",
       "  'Short Forecast': 'IncreasingClouds',\n",
       "  'Temperature': 36},\n",
       " 'Tuesday': {'Long Forecast': 'Tuesday: Rain likely, mainly after noon.  Cloudy, with a high near 44. Light and variable wind becoming east 5 to 7 mph in the afternoon.  Chance of precipitation is 70%. New precipitation amounts between a tenth and quarter of an inch possible. ',\n",
       "  'Short Forecast': 'Rain Likely',\n",
       "  'Temperature': 44},\n",
       " 'TuesdayNight': {'Long Forecast': 'Tuesday Night: Rain.  Steady temperature around 44. East wind around 7 mph becoming southwest after midnight.  Chance of precipitation is 80%. New precipitation amounts between a quarter and half of an inch possible. ',\n",
       "  'Short Forecast': 'Rain',\n",
       "  'Temperature': 44},\n",
       " 'Wednesday': {'Long Forecast': 'Wednesday: A 40 percent chance of showers, mainly before noon.  Cloudy, with a high near 48. Northwest wind 7 to 9 mph. ',\n",
       "  'Short Forecast': 'ChanceShowers',\n",
       "  'Temperature': 48},\n",
       " 'WednesdayNight': {'Long Forecast': 'Wednesday Night: Mostly cloudy, with a low around 37.',\n",
       "  'Short Forecast': 'Mostly Cloudy',\n",
       "  'Temperature': 37}}"
      ]
     },
     "execution_count": 37,
     "metadata": {},
     "output_type": "execute_result"
    }
   ],
   "source": [
    "new_weather"
   ]
  },
  {
   "cell_type": "code",
   "execution_count": null,
   "metadata": {
    "collapsed": true
   },
   "outputs": [],
   "source": []
  }
 ],
 "metadata": {
  "kernelspec": {
   "display_name": "Python 3",
   "language": "python",
   "name": "python3"
  },
  "language_info": {
   "codemirror_mode": {
    "name": "ipython",
    "version": 3
   },
   "file_extension": ".py",
   "mimetype": "text/x-python",
   "name": "python",
   "nbconvert_exporter": "python",
   "pygments_lexer": "ipython3",
   "version": "3.6.0"
  }
 },
 "nbformat": 4,
 "nbformat_minor": 0
}
